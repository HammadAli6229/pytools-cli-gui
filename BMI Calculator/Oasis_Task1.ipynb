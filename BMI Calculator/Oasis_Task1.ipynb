{
 "cells": [
  {
   "cell_type": "markdown",
   "id": "f3096104",
   "metadata": {},
   "source": [
    "# Beginner Version: Command-line BMI Calculator"
   ]
  },
  {
   "cell_type": "code",
   "execution_count": 1,
   "id": "5996ac20",
   "metadata": {},
   "outputs": [
    {
     "name": "stdout",
     "output_type": "stream",
     "text": [
      "Enter your weight in kilograms: 72\n",
      "Enter your height in meters: 1.9\n",
      "Your BMI is 19.94, which is considered Normal weight.\n"
     ]
    }
   ],
   "source": [
    "def get_user_input():\n",
    "    while True:\n",
    "        try:\n",
    "            weight = float(input(\"Enter your weight in kilograms: \"))\n",
    "            height = float(input(\"Enter your height in meters: \"))\n",
    "            if weight > 0 and height > 0:\n",
    "                return weight, height\n",
    "            else:\n",
    "                print(\"Weight and height must be positive numbers.\")\n",
    "        except ValueError:\n",
    "            print(\"Invalid input. Please enter numeric values.\")\n",
    "\n",
    "def calculate_bmi(weight, height):\n",
    "    bmi = weight / (height ** 2)\n",
    "    return bmi\n",
    "\n",
    "def classify_bmi(bmi):\n",
    "    if bmi < 18.5:\n",
    "        return \"Underweight\"\n",
    "    elif 18.5 <= bmi < 24.9:\n",
    "        return \"Normal weight\"\n",
    "    elif 25 <= bmi < 29.9:\n",
    "        return \"Overweight\"\n",
    "    else:\n",
    "        return \"Obesity\"\n",
    "\n",
    "def main():\n",
    "    weight, height = get_user_input()\n",
    "    bmi = calculate_bmi(weight, height)\n",
    "    category = classify_bmi(bmi)\n",
    "    print(f\"Your BMI is {bmi:.2f}, which is considered {category}.\")\n",
    "\n",
    "if __name__ == \"__main__\":\n",
    "    main()\n"
   ]
  },
  {
   "cell_type": "markdown",
   "id": "00e6a642",
   "metadata": {},
   "source": [
    "# Advanced Version: GUI BMI Calculator"
   ]
  },
  {
   "cell_type": "code",
   "execution_count": 2,
   "id": "3b29b4f9",
   "metadata": {},
   "outputs": [],
   "source": [
    "import tkinter as tk\n",
    "from tkinter import messagebox\n",
    "\n",
    "def calculate_bmi():\n",
    "    try:\n",
    "        weight = float(entry_weight.get())\n",
    "        height = float(entry_height.get())\n",
    "        if weight > 0 and height > 0:\n",
    "            bmi = weight / (height ** 2)\n",
    "            category = classify_bmi(bmi)\n",
    "            label_result.config(text=f\"BMI: {bmi:.2f}\\nCategory: {category}\")\n",
    "        else:\n",
    "            messagebox.showerror(\"Input Error\", \"Weight and height must be positive numbers.\")\n",
    "    except ValueError:\n",
    "        messagebox.showerror(\"Input Error\", \"Please enter valid numeric values.\")\n",
    "\n",
    "def classify_bmi(bmi):\n",
    "    if bmi < 18.5:\n",
    "        return \"Underweight\"\n",
    "    elif 18.5 <= bmi < 24.9:\n",
    "        return \"Normal weight\"\n",
    "    elif 25 <= bmi < 29.9:\n",
    "        return \"Overweight\"\n",
    "    else:\n",
    "        return \"Obesity\"\n",
    "\n",
    "app = tk.Tk()\n",
    "app.title(\"BMI Calculator\")\n",
    "\n",
    "tk.Label(app, text=\"Weight (kg):\").grid(row=0, column=0, padx=10, pady=5)\n",
    "entry_weight = tk.Entry(app)\n",
    "entry_weight.grid(row=0, column=1, padx=10, pady=5)\n",
    "\n",
    "tk.Label(app, text=\"Height (m):\").grid(row=1, column=0, padx=10, pady=5)\n",
    "entry_height = tk.Entry(app)\n",
    "entry_height.grid(row=1, column=1, padx=10, pady=5)\n",
    "\n",
    "btn_calculate = tk.Button(app, text=\"Calculate BMI\", command=calculate_bmi)\n",
    "btn_calculate.grid(row=2, column=0, columnspan=2, pady=10)\n",
    "\n",
    "label_result = tk.Label(app, text=\"BMI: \\nCategory: \")\n",
    "label_result.grid(row=3, column=0, columnspan=2, pady=10)\n",
    "\n",
    "app.mainloop()"
   ]
  }
 ],
 "metadata": {
  "kernelspec": {
   "display_name": "Python 3",
   "language": "python",
   "name": "python3"
  },
  "language_info": {
   "codemirror_mode": {
    "name": "ipython",
    "version": 3
   },
   "file_extension": ".py",
   "mimetype": "text/x-python",
   "name": "python",
   "nbconvert_exporter": "python",
   "pygments_lexer": "ipython3",
   "version": "3.8.8"
  }
 },
 "nbformat": 4,
 "nbformat_minor": 5
}
