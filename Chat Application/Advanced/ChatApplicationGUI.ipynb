{
 "cells": [
  {
   "cell_type": "markdown",
   "id": "f1c75c52",
   "metadata": {},
   "source": [
    "# Advanced GUI-Based Chat Application"
   ]
  },
  {
   "cell_type": "markdown",
   "id": "f1c85e8e",
   "metadata": {},
   "source": [
    "#### Note: Install Necessary Libraries. Make sure you have Tkinter installed."
   ]
  },
  {
   "cell_type": "code",
   "execution_count": 1,
   "id": "6a9573f2",
   "metadata": {},
   "outputs": [
    {
     "name": "stdout",
     "output_type": "stream",
     "text": [
      "Requirement already satisfied: tk in /opt/anaconda3/lib/python3.8/site-packages (0.1.0)\r\n"
     ]
    }
   ],
   "source": [
    "!pip install tk"
   ]
  },
  {
   "cell_type": "markdown",
   "id": "1caa812d",
   "metadata": {},
   "source": [
    "## Server Code"
   ]
  },
  {
   "cell_type": "code",
   "execution_count": 2,
   "id": "1504d9c2",
   "metadata": {},
   "outputs": [
    {
     "name": "stdout",
     "output_type": "stream",
     "text": [
      "Server is listening on port 12345\n"
     ]
    }
   ],
   "source": [
    "import socket\n",
    "import threading\n",
    "import tkinter as tk\n",
    "from tkinter import scrolledtext\n",
    "\n",
    "clients = []\n",
    "\n",
    "def start_server():\n",
    "    server_socket = socket.socket(socket.AF_INET, socket.SOCK_STREAM)\n",
    "    server_socket.bind(('localhost', 12345))\n",
    "    server_socket.listen(5)\n",
    "    print(\"Server is listening on port 12345\")\n",
    "\n",
    "    while True:\n",
    "        client_socket, client_address = server_socket.accept()\n",
    "        clients.append(client_socket)\n",
    "        threading.Thread(target=handle_client, args=(client_socket,)).start()\n",
    "\n",
    "def handle_client(client_socket):\n",
    "    while True:\n",
    "        try:\n",
    "            message = client_socket.recv(1024).decode()\n",
    "            if not message:\n",
    "                break\n",
    "            display_message(message)\n",
    "        except:\n",
    "            break\n",
    "\n",
    "def display_message(message):\n",
    "    chat_window.config(state=tk.NORMAL)\n",
    "    chat_window.insert(tk.END, f\"{message}\\n\")\n",
    "    chat_window.config(state=tk.DISABLED)\n",
    "\n",
    "def send_message():\n",
    "    message = message_entry.get()\n",
    "    message_entry.delete(0, tk.END)\n",
    "    for client in clients:\n",
    "        client.send(message.encode())\n",
    "\n",
    "# GUI setup\n",
    "root = tk.Tk()\n",
    "root.title(\"Server Chat\")\n",
    "\n",
    "chat_window = scrolledtext.ScrolledText(root, state='disabled')\n",
    "chat_window.pack(padx=20, pady=10)\n",
    "\n",
    "message_entry = tk.Entry(root)\n",
    "message_entry.pack(padx=20, pady=10)\n",
    "message_entry.bind(\"<Return>\", lambda event: send_message())\n",
    "\n",
    "server_thread = threading.Thread(target=start_server)\n",
    "server_thread.start()\n",
    "\n",
    "root.mainloop()"
   ]
  },
  {
   "cell_type": "markdown",
   "id": "58bb5e6c",
   "metadata": {},
   "source": [
    "## Client Code"
   ]
  },
  {
   "cell_type": "code",
   "execution_count": 3,
   "id": "9790f822",
   "metadata": {},
   "outputs": [],
   "source": [
    "import socket\n",
    "import threading\n",
    "import tkinter as tk\n",
    "from tkinter import scrolledtext\n",
    "\n",
    "client_socket = socket.socket(socket.AF_INET, socket.SOCK_STREAM)\n",
    "\n",
    "def start_client():\n",
    "    client_socket.connect(('localhost', 12345))\n",
    "    threading.Thread(target=receive_messages).start()\n",
    "\n",
    "def receive_messages():\n",
    "    while True:\n",
    "        try:\n",
    "            message = client_socket.recv(1024).decode()\n",
    "            if not message:\n",
    "                break\n",
    "            display_message(message)\n",
    "        except:\n",
    "            break\n",
    "\n",
    "def display_message(message):\n",
    "    chat_window.config(state=tk.NORMAL)\n",
    "    chat_window.insert(tk.END, f\"{message}\\n\")\n",
    "    chat_window.config(state=tk.DISABLED)\n",
    "\n",
    "def send_message():\n",
    "    message = message_entry.get()\n",
    "    message_entry.delete(0, tk.END)\n",
    "    client_socket.send(message.encode())\n",
    "\n",
    "# GUI setup\n",
    "root = tk.Tk()\n",
    "root.title(\"Client Chat\")\n",
    "\n",
    "chat_window = scrolledtext.ScrolledText(root, state='disabled')\n",
    "chat_window.pack(padx=20, pady=10)\n",
    "\n",
    "message_entry = tk.Entry(root)\n",
    "message_entry.pack(padx=20, pady=10)\n",
    "message_entry.bind(\"<Return>\", lambda event: send_message())\n",
    "\n",
    "client_thread = threading.Thread(target=start_client)\n",
    "client_thread.start()\n",
    "\n",
    "root.mainloop()"
   ]
  },
  {
   "cell_type": "markdown",
   "id": "7608e55f",
   "metadata": {},
   "source": [
    "### Install ipywidgets: We can use ipywidgets to help manage the Tkinter event loop."
   ]
  },
  {
   "cell_type": "code",
   "execution_count": 4,
   "id": "3a38600d",
   "metadata": {},
   "outputs": [
    {
     "name": "stdout",
     "output_type": "stream",
     "text": [
      "Requirement already satisfied: ipywidgets in /opt/anaconda3/lib/python3.8/site-packages (7.6.3)\n",
      "Requirement already satisfied: jupyterlab-widgets>=1.0.0 in /opt/anaconda3/lib/python3.8/site-packages (from ipywidgets) (1.0.0)\n",
      "Requirement already satisfied: traitlets>=4.3.1 in /opt/anaconda3/lib/python3.8/site-packages (from ipywidgets) (5.0.5)\n",
      "Requirement already satisfied: ipython>=4.0.0 in /opt/anaconda3/lib/python3.8/site-packages (from ipywidgets) (7.22.0)\n",
      "Requirement already satisfied: ipykernel>=4.5.1 in /opt/anaconda3/lib/python3.8/site-packages (from ipywidgets) (5.3.4)\n",
      "Requirement already satisfied: nbformat>=4.2.0 in /opt/anaconda3/lib/python3.8/site-packages (from ipywidgets) (5.1.3)\n",
      "Requirement already satisfied: widgetsnbextension~=3.5.0 in /opt/anaconda3/lib/python3.8/site-packages (from ipywidgets) (3.5.1)\n",
      "Requirement already satisfied: tornado>=4.2 in /opt/anaconda3/lib/python3.8/site-packages (from ipykernel>=4.5.1->ipywidgets) (6.1)\n",
      "Requirement already satisfied: appnope in /opt/anaconda3/lib/python3.8/site-packages (from ipykernel>=4.5.1->ipywidgets) (0.1.2)\n",
      "Requirement already satisfied: jupyter-client in /opt/anaconda3/lib/python3.8/site-packages (from ipykernel>=4.5.1->ipywidgets) (6.1.12)\n",
      "Requirement already satisfied: jedi>=0.16 in /opt/anaconda3/lib/python3.8/site-packages (from ipython>=4.0.0->ipywidgets) (0.17.2)\n",
      "Requirement already satisfied: backcall in /opt/anaconda3/lib/python3.8/site-packages (from ipython>=4.0.0->ipywidgets) (0.2.0)\n",
      "Requirement already satisfied: prompt-toolkit!=3.0.0,!=3.0.1,<3.1.0,>=2.0.0 in /opt/anaconda3/lib/python3.8/site-packages (from ipython>=4.0.0->ipywidgets) (3.0.17)\n",
      "Requirement already satisfied: setuptools>=18.5 in /opt/anaconda3/lib/python3.8/site-packages (from ipython>=4.0.0->ipywidgets) (52.0.0.post20210125)\n",
      "Requirement already satisfied: pickleshare in /opt/anaconda3/lib/python3.8/site-packages (from ipython>=4.0.0->ipywidgets) (0.7.5)\n",
      "Requirement already satisfied: pexpect>4.3 in /opt/anaconda3/lib/python3.8/site-packages (from ipython>=4.0.0->ipywidgets) (4.8.0)\n",
      "Requirement already satisfied: pygments in /opt/anaconda3/lib/python3.8/site-packages (from ipython>=4.0.0->ipywidgets) (2.8.1)\n",
      "Requirement already satisfied: decorator in /opt/anaconda3/lib/python3.8/site-packages (from ipython>=4.0.0->ipywidgets) (5.0.6)\n",
      "Requirement already satisfied: parso<0.8.0,>=0.7.0 in /opt/anaconda3/lib/python3.8/site-packages (from jedi>=0.16->ipython>=4.0.0->ipywidgets) (0.7.0)\n",
      "Requirement already satisfied: ipython-genutils in /opt/anaconda3/lib/python3.8/site-packages (from nbformat>=4.2.0->ipywidgets) (0.2.0)\n",
      "Requirement already satisfied: jsonschema!=2.5.0,>=2.4 in /opt/anaconda3/lib/python3.8/site-packages (from nbformat>=4.2.0->ipywidgets) (3.2.0)\n",
      "Requirement already satisfied: jupyter-core in /opt/anaconda3/lib/python3.8/site-packages (from nbformat>=4.2.0->ipywidgets) (4.7.1)\n",
      "Requirement already satisfied: six>=1.11.0 in /opt/anaconda3/lib/python3.8/site-packages (from jsonschema!=2.5.0,>=2.4->nbformat>=4.2.0->ipywidgets) (1.15.0)\n",
      "Requirement already satisfied: pyrsistent>=0.14.0 in /opt/anaconda3/lib/python3.8/site-packages (from jsonschema!=2.5.0,>=2.4->nbformat>=4.2.0->ipywidgets) (0.17.3)\n",
      "Requirement already satisfied: attrs>=17.4.0 in /opt/anaconda3/lib/python3.8/site-packages (from jsonschema!=2.5.0,>=2.4->nbformat>=4.2.0->ipywidgets) (20.3.0)\n",
      "Requirement already satisfied: ptyprocess>=0.5 in /opt/anaconda3/lib/python3.8/site-packages (from pexpect>4.3->ipython>=4.0.0->ipywidgets) (0.7.0)\n",
      "Requirement already satisfied: wcwidth in /opt/anaconda3/lib/python3.8/site-packages (from prompt-toolkit!=3.0.0,!=3.0.1,<3.1.0,>=2.0.0->ipython>=4.0.0->ipywidgets) (0.2.5)\n",
      "Requirement already satisfied: notebook>=4.4.1 in /opt/anaconda3/lib/python3.8/site-packages (from widgetsnbextension~=3.5.0->ipywidgets) (6.3.0)\n",
      "Requirement already satisfied: nbconvert in /opt/anaconda3/lib/python3.8/site-packages (from notebook>=4.4.1->widgetsnbextension~=3.5.0->ipywidgets) (6.0.7)\n",
      "Requirement already satisfied: Send2Trash>=1.5.0 in /opt/anaconda3/lib/python3.8/site-packages (from notebook>=4.4.1->widgetsnbextension~=3.5.0->ipywidgets) (1.5.0)\n",
      "Requirement already satisfied: terminado>=0.8.3 in /opt/anaconda3/lib/python3.8/site-packages (from notebook>=4.4.1->widgetsnbextension~=3.5.0->ipywidgets) (0.9.4)\n",
      "Requirement already satisfied: argon2-cffi in /opt/anaconda3/lib/python3.8/site-packages (from notebook>=4.4.1->widgetsnbextension~=3.5.0->ipywidgets) (20.1.0)\n",
      "Requirement already satisfied: jinja2 in /opt/anaconda3/lib/python3.8/site-packages (from notebook>=4.4.1->widgetsnbextension~=3.5.0->ipywidgets) (2.11.3)\n",
      "Requirement already satisfied: prometheus-client in /opt/anaconda3/lib/python3.8/site-packages (from notebook>=4.4.1->widgetsnbextension~=3.5.0->ipywidgets) (0.10.1)\n",
      "Requirement already satisfied: pyzmq>=17 in /opt/anaconda3/lib/python3.8/site-packages (from notebook>=4.4.1->widgetsnbextension~=3.5.0->ipywidgets) (20.0.0)\n",
      "Requirement already satisfied: python-dateutil>=2.1 in /opt/anaconda3/lib/python3.8/site-packages (from jupyter-client->ipykernel>=4.5.1->ipywidgets) (2.8.1)\n",
      "Requirement already satisfied: cffi>=1.0.0 in /opt/anaconda3/lib/python3.8/site-packages (from argon2-cffi->notebook>=4.4.1->widgetsnbextension~=3.5.0->ipywidgets) (1.14.5)\n",
      "Requirement already satisfied: pycparser in /opt/anaconda3/lib/python3.8/site-packages (from cffi>=1.0.0->argon2-cffi->notebook>=4.4.1->widgetsnbextension~=3.5.0->ipywidgets) (2.20)\n",
      "Requirement already satisfied: MarkupSafe>=0.23 in /opt/anaconda3/lib/python3.8/site-packages (from jinja2->notebook>=4.4.1->widgetsnbextension~=3.5.0->ipywidgets) (1.1.1)\n",
      "Requirement already satisfied: entrypoints>=0.2.2 in /opt/anaconda3/lib/python3.8/site-packages (from nbconvert->notebook>=4.4.1->widgetsnbextension~=3.5.0->ipywidgets) (0.3)\n",
      "Requirement already satisfied: bleach in /opt/anaconda3/lib/python3.8/site-packages (from nbconvert->notebook>=4.4.1->widgetsnbextension~=3.5.0->ipywidgets) (3.3.0)\n",
      "Requirement already satisfied: mistune<2,>=0.8.1 in /opt/anaconda3/lib/python3.8/site-packages (from nbconvert->notebook>=4.4.1->widgetsnbextension~=3.5.0->ipywidgets) (0.8.4)\n",
      "Requirement already satisfied: defusedxml in /opt/anaconda3/lib/python3.8/site-packages (from nbconvert->notebook>=4.4.1->widgetsnbextension~=3.5.0->ipywidgets) (0.7.1)\n",
      "Requirement already satisfied: jupyterlab-pygments in /opt/anaconda3/lib/python3.8/site-packages (from nbconvert->notebook>=4.4.1->widgetsnbextension~=3.5.0->ipywidgets) (0.1.2)\n",
      "Requirement already satisfied: pandocfilters>=1.4.1 in /opt/anaconda3/lib/python3.8/site-packages (from nbconvert->notebook>=4.4.1->widgetsnbextension~=3.5.0->ipywidgets) (1.4.3)\n",
      "Requirement already satisfied: nbclient<0.6.0,>=0.5.0 in /opt/anaconda3/lib/python3.8/site-packages (from nbconvert->notebook>=4.4.1->widgetsnbextension~=3.5.0->ipywidgets) (0.5.3)\n",
      "Requirement already satisfied: testpath in /opt/anaconda3/lib/python3.8/site-packages (from nbconvert->notebook>=4.4.1->widgetsnbextension~=3.5.0->ipywidgets) (0.4.4)\n",
      "Requirement already satisfied: async-generator in /opt/anaconda3/lib/python3.8/site-packages (from nbclient<0.6.0,>=0.5.0->nbconvert->notebook>=4.4.1->widgetsnbextension~=3.5.0->ipywidgets) (1.10)\n",
      "Requirement already satisfied: nest-asyncio in /opt/anaconda3/lib/python3.8/site-packages (from nbclient<0.6.0,>=0.5.0->nbconvert->notebook>=4.4.1->widgetsnbextension~=3.5.0->ipywidgets) (1.5.1)\n",
      "Requirement already satisfied: webencodings in /opt/anaconda3/lib/python3.8/site-packages (from bleach->nbconvert->notebook>=4.4.1->widgetsnbextension~=3.5.0->ipywidgets) (0.5.1)\n",
      "Requirement already satisfied: packaging in /opt/anaconda3/lib/python3.8/site-packages (from bleach->nbconvert->notebook>=4.4.1->widgetsnbextension~=3.5.0->ipywidgets) (20.9)\n",
      "Requirement already satisfied: pyparsing>=2.0.2 in /opt/anaconda3/lib/python3.8/site-packages (from packaging->bleach->nbconvert->notebook>=4.4.1->widgetsnbextension~=3.5.0->ipywidgets) (2.4.7)\n"
     ]
    }
   ],
   "source": [
    "!pip install ipywidgets"
   ]
  },
  {
   "cell_type": "markdown",
   "id": "af0d9460",
   "metadata": {},
   "source": [
    "## Update the server and client code to integrate with ipywidgets:-"
   ]
  },
  {
   "cell_type": "markdown",
   "id": "2546a218",
   "metadata": {},
   "source": [
    "## For the server:"
   ]
  },
  {
   "cell_type": "code",
   "execution_count": 5,
   "id": "79886623",
   "metadata": {},
   "outputs": [
    {
     "data": {
      "application/vnd.jupyter.widget-view+json": {
       "model_id": "a4d0c656948c4cd1a4d611951376223c",
       "version_major": 2,
       "version_minor": 0
      },
      "text/plain": [
       "Button(description='Run Server', style=ButtonStyle())"
      ]
     },
     "metadata": {},
     "output_type": "display_data"
    }
   ],
   "source": [
    "import socket\n",
    "import threading\n",
    "import tkinter as tk\n",
    "from tkinter import scrolledtext\n",
    "import ipywidgets as widgets\n",
    "from IPython.display import display\n",
    "\n",
    "clients = []\n",
    "\n",
    "def start_server():\n",
    "    server_socket = socket.socket(socket.AF_INET, socket.SOCK_STREAM)\n",
    "    server_socket.bind(('localhost', 12345))\n",
    "    server_socket.listen(5)\n",
    "    print(\"Server is listening on port 12345\")\n",
    "\n",
    "    while True:\n",
    "        client_socket, client_address = server_socket.accept()\n",
    "        clients.append(client_socket)\n",
    "        threading.Thread(target=handle_client, args=(client_socket,)).start()\n",
    "\n",
    "def handle_client(client_socket):\n",
    "    while True:\n",
    "        try:\n",
    "            message = client_socket.recv(1024).decode()\n",
    "            if not message:\n",
    "                break\n",
    "            display_message(message)\n",
    "        except:\n",
    "            break\n",
    "\n",
    "def display_message(message):\n",
    "    chat_window.config(state=tk.NORMAL)\n",
    "    chat_window.insert(tk.END, f\"{message}\\n\")\n",
    "    chat_window.config(state=tk.DISABLED)\n",
    "\n",
    "def send_message():\n",
    "    message = message_entry.get()\n",
    "    message_entry.delete(0, tk.END)\n",
    "    for client in clients:\n",
    "        client.send(message.encode())\n",
    "\n",
    "def run_server_gui():\n",
    "    root = tk.Tk()\n",
    "    root.title(\"Server Chat\")\n",
    "\n",
    "    global chat_window\n",
    "    chat_window = scrolledtext.ScrolledText(root, state='disabled')\n",
    "    chat_window.pack(padx=20, pady=10)\n",
    "\n",
    "    global message_entry\n",
    "    message_entry = tk.Entry(root)\n",
    "    message_entry.pack(padx=20, pady=10)\n",
    "    message_entry.bind(\"<Return>\", lambda event: send_message())\n",
    "\n",
    "    server_thread = threading.Thread(target=start_server)\n",
    "    server_thread.start()\n",
    "\n",
    "    root.mainloop()\n",
    "\n",
    "run_button = widgets.Button(description=\"Run Server\")\n",
    "run_button.on_click(lambda b: run_server_gui())\n",
    "display(run_button)"
   ]
  },
  {
   "cell_type": "markdown",
   "id": "12c402fa",
   "metadata": {},
   "source": [
    "## For the client:"
   ]
  },
  {
   "cell_type": "code",
   "execution_count": 6,
   "id": "e9a05ada",
   "metadata": {},
   "outputs": [
    {
     "data": {
      "application/vnd.jupyter.widget-view+json": {
       "model_id": "c78f2195d2db45bf9ad27e49652bd8ba",
       "version_major": 2,
       "version_minor": 0
      },
      "text/plain": [
       "Button(description='Run Client', style=ButtonStyle())"
      ]
     },
     "metadata": {},
     "output_type": "display_data"
    }
   ],
   "source": [
    "import socket\n",
    "import threading\n",
    "import tkinter as tk\n",
    "from tkinter import scrolledtext\n",
    "import ipywidgets as widgets\n",
    "from IPython.display import display\n",
    "\n",
    "client_socket = socket.socket(socket.AF_INET, socket.SOCK_STREAM)\n",
    "\n",
    "def start_client():\n",
    "    client_socket.connect(('localhost', 12345))\n",
    "    threading.Thread(target=receive_messages).start()\n",
    "\n",
    "def receive_messages():\n",
    "    while True:\n",
    "        try:\n",
    "            message = client_socket.recv(1024).decode()\n",
    "            if not message:\n",
    "                break\n",
    "            display_message(message)\n",
    "        except:\n",
    "            break\n",
    "\n",
    "def display_message(message):\n",
    "    chat_window.config(state=tk.NORMAL)\n",
    "    chat_window.insert(tk.END, f\"{message}\\n\")\n",
    "    chat_window.config(state=tk.DISABLED)\n",
    "\n",
    "def send_message():\n",
    "    message = message_entry.get()\n",
    "    message_entry.delete(0, tk.END)\n",
    "    client_socket.send(message.encode())\n",
    "\n",
    "def run_client_gui():\n",
    "    root = tk.Tk()\n",
    "    root.title(\"Client Chat\")\n",
    "\n",
    "    global chat_window\n",
    "    chat_window = scrolledtext.ScrolledText(root, state='disabled')\n",
    "    chat_window.pack(padx=20, pady=10)\n",
    "\n",
    "    global message_entry\n",
    "    message_entry = tk.Entry(root)\n",
    "    message_entry.pack(padx=20, pady=10)\n",
    "    message_entry.bind(\"<Return>\", lambda event: send_message())\n",
    "\n",
    "    client_thread = threading.Thread(target=start_client)\n",
    "    client_thread.start()\n",
    "\n",
    "    root.mainloop()\n",
    "\n",
    "run_button = widgets.Button(description=\"Run Client\")\n",
    "run_button.on_click(lambda b: run_client_gui())\n",
    "display(run_button)"
   ]
  },
  {
   "cell_type": "markdown",
   "id": "5fb74362",
   "metadata": {},
   "source": [
    "# Running the Server and Client:-"
   ]
  },
  {
   "cell_type": "markdown",
   "id": "455ef44f",
   "metadata": {},
   "source": [
    "## Run the server code cell:\n",
    "### --> Click the \"Run Server\" button that appears to start the server GUI."
   ]
  },
  {
   "cell_type": "markdown",
   "id": "098bcf40",
   "metadata": {},
   "source": [
    "## Run the client code cell:\n",
    "### --> Click the \"Run Client\" button that appears to start the client GUI."
   ]
  }
 ],
 "metadata": {
  "kernelspec": {
   "display_name": "Python 3",
   "language": "python",
   "name": "python3"
  },
  "language_info": {
   "codemirror_mode": {
    "name": "ipython",
    "version": 3
   },
   "file_extension": ".py",
   "mimetype": "text/x-python",
   "name": "python",
   "nbconvert_exporter": "python",
   "pygments_lexer": "ipython3",
   "version": "3.8.8"
  }
 },
 "nbformat": 4,
 "nbformat_minor": 5
}
