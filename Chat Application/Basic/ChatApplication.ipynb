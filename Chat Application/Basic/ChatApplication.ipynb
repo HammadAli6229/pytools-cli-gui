{
 "cells": [
  {
   "cell_type": "markdown",
   "id": "6d723087",
   "metadata": {},
   "source": [
    "# Basic Text-Based Chat Application"
   ]
  },
  {
   "cell_type": "markdown",
   "id": "0b65e49e",
   "metadata": {},
   "source": [
    "## Server Code:"
   ]
  },
  {
   "cell_type": "code",
   "execution_count": 1,
   "id": "0ea505bd",
   "metadata": {},
   "outputs": [
    {
     "name": "stdout",
     "output_type": "stream",
     "text": [
      "Server is listening on port 12345\n"
     ]
    }
   ],
   "source": [
    "import socket\n",
    "import threading\n",
    "\n",
    "def start_server():\n",
    "    server_socket = socket.socket(socket.AF_INET, socket.SOCK_STREAM)\n",
    "    server_socket.bind(('localhost', 12345))\n",
    "    server_socket.listen(1)\n",
    "    print(\"Server is listening on port 12345\")\n",
    "\n",
    "    client_socket, client_address = server_socket.accept()\n",
    "    print(f\"Connection from {client_address}\")\n",
    "\n",
    "    while True:\n",
    "        message = client_socket.recv(1024).decode()\n",
    "        if message.lower() == 'bye':\n",
    "            break\n",
    "        print(f\"Client: {message}\")\n",
    "        response = input(\"You: \")\n",
    "        client_socket.send(response.encode())\n",
    "        if response.lower() == 'bye':\n",
    "            break\n",
    "\n",
    "    client_socket.close()\n",
    "    server_socket.close()\n",
    "\n",
    "# Run the server in a separate thread\n",
    "server_thread = threading.Thread(target=start_server)\n",
    "server_thread.start()\n"
   ]
  },
  {
   "cell_type": "markdown",
   "id": "895081d8",
   "metadata": {},
   "source": [
    "## Client Code"
   ]
  },
  {
   "cell_type": "code",
   "execution_count": 2,
   "id": "3a3690c5",
   "metadata": {},
   "outputs": [
    {
     "name": "stdout",
     "output_type": "stream",
     "text": [
      "Connected to the serverConnection from ('127.0.0.1', 52260)\n",
      "\n",
      "You: hello\n",
      "Client: hello\n",
      "You: hi\n",
      "Server: hi\n",
      "You: bye\n"
     ]
    }
   ],
   "source": [
    "import socket\n",
    "\n",
    "def start_client():\n",
    "    client_socket = socket.socket(socket.AF_INET, socket.SOCK_STREAM)\n",
    "    client_socket.connect(('localhost', 12345))\n",
    "    print(\"Connected to the server\")\n",
    "\n",
    "    while True:\n",
    "        message = input(\"You: \")\n",
    "        client_socket.send(message.encode())\n",
    "        if message.lower() == 'bye':\n",
    "            break\n",
    "        response = client_socket.recv(1024).decode()\n",
    "        if response.lower() == 'bye':\n",
    "            break\n",
    "        print(f\"Server: {response}\")\n",
    "\n",
    "    client_socket.close()\n",
    "\n",
    "# Start the client\n",
    "start_client()\n"
   ]
  }
 ],
 "metadata": {
  "kernelspec": {
   "display_name": "Python 3",
   "language": "python",
   "name": "python3"
  },
  "language_info": {
   "codemirror_mode": {
    "name": "ipython",
    "version": 3
   },
   "file_extension": ".py",
   "mimetype": "text/x-python",
   "name": "python",
   "nbconvert_exporter": "python",
   "pygments_lexer": "ipython3",
   "version": "3.8.8"
  }
 },
 "nbformat": 4,
 "nbformat_minor": 5
}
