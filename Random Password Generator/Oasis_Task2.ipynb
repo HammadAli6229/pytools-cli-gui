{
 "cells": [
  {
   "cell_type": "markdown",
   "id": "5f5a2278",
   "metadata": {},
   "source": [
    "# Beginner Level: Command-Line Random Password Generator"
   ]
  },
  {
   "cell_type": "code",
   "execution_count": 1,
   "id": "a0eccd9a",
   "metadata": {},
   "outputs": [
    {
     "name": "stdout",
     "output_type": "stream",
     "text": [
      "Enter password length: 8\n",
      "Use uppercase letters? (yes/no): yes\n",
      "Use numbers? (yes/no): yes\n",
      "Use symbols? (yes/no): yes\n",
      "Generated password: XgxiU7U^\n"
     ]
    }
   ],
   "source": [
    "import random\n",
    "import string\n",
    "\n",
    "def generate_password(length, use_uppercase, use_numbers, use_symbols):\n",
    "    character_set = string.ascii_lowercase\n",
    "    if use_uppercase:\n",
    "        character_set += string.ascii_uppercase\n",
    "    if use_numbers:\n",
    "        character_set += string.digits\n",
    "    if use_symbols:\n",
    "        character_set += string.punctuation\n",
    "\n",
    "    password = ''.join(random.choice(character_set) for _ in range(length))\n",
    "    return password\n",
    "\n",
    "def main():\n",
    "    length = int(input(\"Enter password length: \"))\n",
    "    use_uppercase = input(\"Use uppercase letters? (yes/no): \").lower() == 'yes'\n",
    "    use_numbers = input(\"Use numbers? (yes/no): \").lower() == 'yes'\n",
    "    use_symbols = input(\"Use symbols? (yes/no): \").lower() == 'yes'\n",
    "    \n",
    "    password = generate_password(length, use_uppercase, use_numbers, use_symbols)\n",
    "    print(f\"Generated password: {password}\")\n",
    "\n",
    "if __name__ == \"__main__\":\n",
    "    main()\n"
   ]
  },
  {
   "cell_type": "markdown",
   "id": "aabec063",
   "metadata": {},
   "source": [
    "# Advanced Level: GUI Random Password Generator using Tkinter"
   ]
  },
  {
   "cell_type": "code",
   "execution_count": null,
   "id": "aa82104d",
   "metadata": {},
   "outputs": [],
   "source": [
    "import random\n",
    "import string\n",
    "import tkinter as tk\n",
    "from tkinter import messagebox\n",
    "\n",
    "def generate_password(length, use_uppercase, use_numbers, use_symbols):\n",
    "    character_set = string.ascii_lowercase\n",
    "    if use_uppercase:\n",
    "        character_set += string.ascii_uppercase\n",
    "    if use_numbers:\n",
    "        character_set += string.digits\n",
    "    if use_symbols:\n",
    "        character_set += string.punctuation\n",
    "\n",
    "    password = ''.join(random.choice(character_set) for _ in range(length))\n",
    "    return password\n",
    "\n",
    "def generate():\n",
    "    try:\n",
    "        length = int(length_entry.get())\n",
    "        use_uppercase = uppercase_var.get()\n",
    "        use_numbers = numbers_var.get()\n",
    "        use_symbols = symbols_var.get()\n",
    "        password = generate_password(length, use_uppercase, use_numbers, use_symbols)\n",
    "        result_entry.delete(0, tk.END)\n",
    "        result_entry.insert(0, password)\n",
    "    except ValueError:\n",
    "        messagebox.showerror(\"Input Error\", \"Please enter a valid number for length.\")\n",
    "\n",
    "def copy_to_clipboard():\n",
    "    root.clipboard_clear()\n",
    "    root.clipboard_append(result_entry.get())\n",
    "    root.update() # now it stays on the clipboard after the window is closed\n",
    "    messagebox.showinfo(\"Copied\", \"Password copied to clipboard!\")\n",
    "\n",
    "root = tk.Tk()\n",
    "root.title(\"Password Generator\")\n",
    "\n",
    "tk.Label(root, text=\"Length:\").grid(row=0, column=0)\n",
    "length_entry = tk.Entry(root)\n",
    "length_entry.grid(row=0, column=1)\n",
    "\n",
    "uppercase_var = tk.BooleanVar()\n",
    "tk.Checkbutton(root, text=\"Include Uppercase\", variable=uppercase_var).grid(row=1, column=0, columnspan=2)\n",
    "\n",
    "numbers_var = tk.BooleanVar()\n",
    "tk.Checkbutton(root, text=\"Include Numbers\", variable=numbers_var).grid(row=2, column=0, columnspan=2)\n",
    "\n",
    "symbols_var = tk.BooleanVar()\n",
    "tk.Checkbutton(root, text=\"Include Symbols\", variable=symbols_var).grid(row=3, column=0, columnspan=2)\n",
    "\n",
    "tk.Button(root, text=\"Generate\", command=generate).grid(row=4, column=0, columnspan=2)\n",
    "\n",
    "tk.Label(root, text=\"Generated Password:\").grid(row=5, column=0)\n",
    "result_entry = tk.Entry(root)\n",
    "result_entry.grid(row=5, column=1)\n",
    "\n",
    "tk.Button(root, text=\"Copy\", command=copy_to_clipboard).grid(row=6, column=0, columnspan=2)\n",
    "\n",
    "root.mainloop()\n"
   ]
  }
 ],
 "metadata": {
  "kernelspec": {
   "display_name": "Python 3",
   "language": "python",
   "name": "python3"
  },
  "language_info": {
   "codemirror_mode": {
    "name": "ipython",
    "version": 3
   },
   "file_extension": ".py",
   "mimetype": "text/x-python",
   "name": "python",
   "nbconvert_exporter": "python",
   "pygments_lexer": "ipython3",
   "version": "3.8.8"
  }
 },
 "nbformat": 4,
 "nbformat_minor": 5
}
